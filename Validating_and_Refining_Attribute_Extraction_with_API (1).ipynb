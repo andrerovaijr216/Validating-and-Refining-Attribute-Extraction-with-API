{
  "nbformat": 4,
  "nbformat_minor": 0,
  "metadata": {
    "colab": {
      "provenance": [],
      "gpuType": "T4"
    },
    "kernelspec": {
      "name": "python3",
      "display_name": "Python 3"
    },
    "language_info": {
      "name": "python"
    },
    "accelerator": "GPU",
    "widgets": {
      "application/vnd.jupyter.widget-state+json": {
        "067205ce8f074d7e9c2b112da7fe0624": {
          "model_module": "@jupyter-widgets/controls",
          "model_name": "HBoxModel",
          "model_module_version": "1.5.0",
          "state": {
            "_dom_classes": [],
            "_model_module": "@jupyter-widgets/controls",
            "_model_module_version": "1.5.0",
            "_model_name": "HBoxModel",
            "_view_count": null,
            "_view_module": "@jupyter-widgets/controls",
            "_view_module_version": "1.5.0",
            "_view_name": "HBoxView",
            "box_style": "",
            "children": [
              "IPY_MODEL_9f42d1b815dc4679ac563fb8cd427f8b",
              "IPY_MODEL_3ec94afc1b4b4fdc845861c8bbe128e2",
              "IPY_MODEL_fde8a32bef114f4aa5c9c94fb9b16eb5"
            ],
            "layout": "IPY_MODEL_b6f64370e9ab47d9b0305cf1ce4c318f"
          }
        },
        "9f42d1b815dc4679ac563fb8cd427f8b": {
          "model_module": "@jupyter-widgets/controls",
          "model_name": "HTMLModel",
          "model_module_version": "1.5.0",
          "state": {
            "_dom_classes": [],
            "_model_module": "@jupyter-widgets/controls",
            "_model_module_version": "1.5.0",
            "_model_name": "HTMLModel",
            "_view_count": null,
            "_view_module": "@jupyter-widgets/controls",
            "_view_module_version": "1.5.0",
            "_view_name": "HTMLView",
            "description": "",
            "description_tooltip": null,
            "layout": "IPY_MODEL_48121c7b3eb34e1aa8fceb1ff40b92db",
            "placeholder": "​",
            "style": "IPY_MODEL_b20cd41545bd414ab73881f6a2093c46",
            "value": "Loading checkpoint shards: 100%"
          }
        },
        "3ec94afc1b4b4fdc845861c8bbe128e2": {
          "model_module": "@jupyter-widgets/controls",
          "model_name": "FloatProgressModel",
          "model_module_version": "1.5.0",
          "state": {
            "_dom_classes": [],
            "_model_module": "@jupyter-widgets/controls",
            "_model_module_version": "1.5.0",
            "_model_name": "FloatProgressModel",
            "_view_count": null,
            "_view_module": "@jupyter-widgets/controls",
            "_view_module_version": "1.5.0",
            "_view_name": "ProgressView",
            "bar_style": "success",
            "description": "",
            "description_tooltip": null,
            "layout": "IPY_MODEL_9ebb8662a08b4fabad78bbef57f3f5d4",
            "max": 3,
            "min": 0,
            "orientation": "horizontal",
            "style": "IPY_MODEL_819e38c3b56541fd8f57ab609da080d9",
            "value": 3
          }
        },
        "fde8a32bef114f4aa5c9c94fb9b16eb5": {
          "model_module": "@jupyter-widgets/controls",
          "model_name": "HTMLModel",
          "model_module_version": "1.5.0",
          "state": {
            "_dom_classes": [],
            "_model_module": "@jupyter-widgets/controls",
            "_model_module_version": "1.5.0",
            "_model_name": "HTMLModel",
            "_view_count": null,
            "_view_module": "@jupyter-widgets/controls",
            "_view_module_version": "1.5.0",
            "_view_name": "HTMLView",
            "description": "",
            "description_tooltip": null,
            "layout": "IPY_MODEL_c633792fab1f48f38ab21c08574213fc",
            "placeholder": "​",
            "style": "IPY_MODEL_6104cf3028f14ccf95552c63dde36e14",
            "value": " 3/3 [01:18&lt;00:00, 24.29s/it]"
          }
        },
        "b6f64370e9ab47d9b0305cf1ce4c318f": {
          "model_module": "@jupyter-widgets/base",
          "model_name": "LayoutModel",
          "model_module_version": "1.2.0",
          "state": {
            "_model_module": "@jupyter-widgets/base",
            "_model_module_version": "1.2.0",
            "_model_name": "LayoutModel",
            "_view_count": null,
            "_view_module": "@jupyter-widgets/base",
            "_view_module_version": "1.2.0",
            "_view_name": "LayoutView",
            "align_content": null,
            "align_items": null,
            "align_self": null,
            "border": null,
            "bottom": null,
            "display": null,
            "flex": null,
            "flex_flow": null,
            "grid_area": null,
            "grid_auto_columns": null,
            "grid_auto_flow": null,
            "grid_auto_rows": null,
            "grid_column": null,
            "grid_gap": null,
            "grid_row": null,
            "grid_template_areas": null,
            "grid_template_columns": null,
            "grid_template_rows": null,
            "height": null,
            "justify_content": null,
            "justify_items": null,
            "left": null,
            "margin": null,
            "max_height": null,
            "max_width": null,
            "min_height": null,
            "min_width": null,
            "object_fit": null,
            "object_position": null,
            "order": null,
            "overflow": null,
            "overflow_x": null,
            "overflow_y": null,
            "padding": null,
            "right": null,
            "top": null,
            "visibility": null,
            "width": null
          }
        },
        "48121c7b3eb34e1aa8fceb1ff40b92db": {
          "model_module": "@jupyter-widgets/base",
          "model_name": "LayoutModel",
          "model_module_version": "1.2.0",
          "state": {
            "_model_module": "@jupyter-widgets/base",
            "_model_module_version": "1.2.0",
            "_model_name": "LayoutModel",
            "_view_count": null,
            "_view_module": "@jupyter-widgets/base",
            "_view_module_version": "1.2.0",
            "_view_name": "LayoutView",
            "align_content": null,
            "align_items": null,
            "align_self": null,
            "border": null,
            "bottom": null,
            "display": null,
            "flex": null,
            "flex_flow": null,
            "grid_area": null,
            "grid_auto_columns": null,
            "grid_auto_flow": null,
            "grid_auto_rows": null,
            "grid_column": null,
            "grid_gap": null,
            "grid_row": null,
            "grid_template_areas": null,
            "grid_template_columns": null,
            "grid_template_rows": null,
            "height": null,
            "justify_content": null,
            "justify_items": null,
            "left": null,
            "margin": null,
            "max_height": null,
            "max_width": null,
            "min_height": null,
            "min_width": null,
            "object_fit": null,
            "object_position": null,
            "order": null,
            "overflow": null,
            "overflow_x": null,
            "overflow_y": null,
            "padding": null,
            "right": null,
            "top": null,
            "visibility": null,
            "width": null
          }
        },
        "b20cd41545bd414ab73881f6a2093c46": {
          "model_module": "@jupyter-widgets/controls",
          "model_name": "DescriptionStyleModel",
          "model_module_version": "1.5.0",
          "state": {
            "_model_module": "@jupyter-widgets/controls",
            "_model_module_version": "1.5.0",
            "_model_name": "DescriptionStyleModel",
            "_view_count": null,
            "_view_module": "@jupyter-widgets/base",
            "_view_module_version": "1.2.0",
            "_view_name": "StyleView",
            "description_width": ""
          }
        },
        "9ebb8662a08b4fabad78bbef57f3f5d4": {
          "model_module": "@jupyter-widgets/base",
          "model_name": "LayoutModel",
          "model_module_version": "1.2.0",
          "state": {
            "_model_module": "@jupyter-widgets/base",
            "_model_module_version": "1.2.0",
            "_model_name": "LayoutModel",
            "_view_count": null,
            "_view_module": "@jupyter-widgets/base",
            "_view_module_version": "1.2.0",
            "_view_name": "LayoutView",
            "align_content": null,
            "align_items": null,
            "align_self": null,
            "border": null,
            "bottom": null,
            "display": null,
            "flex": null,
            "flex_flow": null,
            "grid_area": null,
            "grid_auto_columns": null,
            "grid_auto_flow": null,
            "grid_auto_rows": null,
            "grid_column": null,
            "grid_gap": null,
            "grid_row": null,
            "grid_template_areas": null,
            "grid_template_columns": null,
            "grid_template_rows": null,
            "height": null,
            "justify_content": null,
            "justify_items": null,
            "left": null,
            "margin": null,
            "max_height": null,
            "max_width": null,
            "min_height": null,
            "min_width": null,
            "object_fit": null,
            "object_position": null,
            "order": null,
            "overflow": null,
            "overflow_x": null,
            "overflow_y": null,
            "padding": null,
            "right": null,
            "top": null,
            "visibility": null,
            "width": null
          }
        },
        "819e38c3b56541fd8f57ab609da080d9": {
          "model_module": "@jupyter-widgets/controls",
          "model_name": "ProgressStyleModel",
          "model_module_version": "1.5.0",
          "state": {
            "_model_module": "@jupyter-widgets/controls",
            "_model_module_version": "1.5.0",
            "_model_name": "ProgressStyleModel",
            "_view_count": null,
            "_view_module": "@jupyter-widgets/base",
            "_view_module_version": "1.2.0",
            "_view_name": "StyleView",
            "bar_color": null,
            "description_width": ""
          }
        },
        "c633792fab1f48f38ab21c08574213fc": {
          "model_module": "@jupyter-widgets/base",
          "model_name": "LayoutModel",
          "model_module_version": "1.2.0",
          "state": {
            "_model_module": "@jupyter-widgets/base",
            "_model_module_version": "1.2.0",
            "_model_name": "LayoutModel",
            "_view_count": null,
            "_view_module": "@jupyter-widgets/base",
            "_view_module_version": "1.2.0",
            "_view_name": "LayoutView",
            "align_content": null,
            "align_items": null,
            "align_self": null,
            "border": null,
            "bottom": null,
            "display": null,
            "flex": null,
            "flex_flow": null,
            "grid_area": null,
            "grid_auto_columns": null,
            "grid_auto_flow": null,
            "grid_auto_rows": null,
            "grid_column": null,
            "grid_gap": null,
            "grid_row": null,
            "grid_template_areas": null,
            "grid_template_columns": null,
            "grid_template_rows": null,
            "height": null,
            "justify_content": null,
            "justify_items": null,
            "left": null,
            "margin": null,
            "max_height": null,
            "max_width": null,
            "min_height": null,
            "min_width": null,
            "object_fit": null,
            "object_position": null,
            "order": null,
            "overflow": null,
            "overflow_x": null,
            "overflow_y": null,
            "padding": null,
            "right": null,
            "top": null,
            "visibility": null,
            "width": null
          }
        },
        "6104cf3028f14ccf95552c63dde36e14": {
          "model_module": "@jupyter-widgets/controls",
          "model_name": "DescriptionStyleModel",
          "model_module_version": "1.5.0",
          "state": {
            "_model_module": "@jupyter-widgets/controls",
            "_model_module_version": "1.5.0",
            "_model_name": "DescriptionStyleModel",
            "_view_count": null,
            "_view_module": "@jupyter-widgets/base",
            "_view_module_version": "1.2.0",
            "_view_name": "StyleView",
            "description_width": ""
          }
        },
        "560caf0d5ca649fcbd4bae60e3aa1569": {
          "model_module": "@jupyter-widgets/controls",
          "model_name": "HBoxModel",
          "model_module_version": "1.5.0",
          "state": {
            "_dom_classes": [],
            "_model_module": "@jupyter-widgets/controls",
            "_model_module_version": "1.5.0",
            "_model_name": "HBoxModel",
            "_view_count": null,
            "_view_module": "@jupyter-widgets/controls",
            "_view_module_version": "1.5.0",
            "_view_name": "HBoxView",
            "box_style": "",
            "children": [
              "IPY_MODEL_ceda20c2144f470aac1b3b64b3357f78",
              "IPY_MODEL_555e616e76a14e03a2a02c7d7fb185ef",
              "IPY_MODEL_7f5e19c75ee14f5eafee891f56c73822"
            ],
            "layout": "IPY_MODEL_0e868b783be446518a52c8f0c8016678"
          }
        },
        "ceda20c2144f470aac1b3b64b3357f78": {
          "model_module": "@jupyter-widgets/controls",
          "model_name": "HTMLModel",
          "model_module_version": "1.5.0",
          "state": {
            "_dom_classes": [],
            "_model_module": "@jupyter-widgets/controls",
            "_model_module_version": "1.5.0",
            "_model_name": "HTMLModel",
            "_view_count": null,
            "_view_module": "@jupyter-widgets/controls",
            "_view_module_version": "1.5.0",
            "_view_name": "HTMLView",
            "description": "",
            "description_tooltip": null,
            "layout": "IPY_MODEL_83cbdd3516c1480786c8a3de51b9f1fd",
            "placeholder": "​",
            "style": "IPY_MODEL_24d0d2471d6247a5ad614553ed5cfad8",
            "value": "Fetching 2 files: 100%"
          }
        },
        "555e616e76a14e03a2a02c7d7fb185ef": {
          "model_module": "@jupyter-widgets/controls",
          "model_name": "FloatProgressModel",
          "model_module_version": "1.5.0",
          "state": {
            "_dom_classes": [],
            "_model_module": "@jupyter-widgets/controls",
            "_model_module_version": "1.5.0",
            "_model_name": "FloatProgressModel",
            "_view_count": null,
            "_view_module": "@jupyter-widgets/controls",
            "_view_module_version": "1.5.0",
            "_view_name": "ProgressView",
            "bar_style": "success",
            "description": "",
            "description_tooltip": null,
            "layout": "IPY_MODEL_e86288ed26474ea0b08358fe8b7e31f1",
            "max": 2,
            "min": 0,
            "orientation": "horizontal",
            "style": "IPY_MODEL_a23f79d1c2fe4be5971e316f75485d6e",
            "value": 2
          }
        },
        "7f5e19c75ee14f5eafee891f56c73822": {
          "model_module": "@jupyter-widgets/controls",
          "model_name": "HTMLModel",
          "model_module_version": "1.5.0",
          "state": {
            "_dom_classes": [],
            "_model_module": "@jupyter-widgets/controls",
            "_model_module_version": "1.5.0",
            "_model_name": "HTMLModel",
            "_view_count": null,
            "_view_module": "@jupyter-widgets/controls",
            "_view_module_version": "1.5.0",
            "_view_name": "HTMLView",
            "description": "",
            "description_tooltip": null,
            "layout": "IPY_MODEL_5e4370f9ae424b109d715df899b3bb4d",
            "placeholder": "​",
            "style": "IPY_MODEL_325e4508d1374402986276c1a69d995e",
            "value": " 2/2 [00:00&lt;00:00, 212.67it/s]"
          }
        },
        "0e868b783be446518a52c8f0c8016678": {
          "model_module": "@jupyter-widgets/base",
          "model_name": "LayoutModel",
          "model_module_version": "1.2.0",
          "state": {
            "_model_module": "@jupyter-widgets/base",
            "_model_module_version": "1.2.0",
            "_model_name": "LayoutModel",
            "_view_count": null,
            "_view_module": "@jupyter-widgets/base",
            "_view_module_version": "1.2.0",
            "_view_name": "LayoutView",
            "align_content": null,
            "align_items": null,
            "align_self": null,
            "border": null,
            "bottom": null,
            "display": null,
            "flex": null,
            "flex_flow": null,
            "grid_area": null,
            "grid_auto_columns": null,
            "grid_auto_flow": null,
            "grid_auto_rows": null,
            "grid_column": null,
            "grid_gap": null,
            "grid_row": null,
            "grid_template_areas": null,
            "grid_template_columns": null,
            "grid_template_rows": null,
            "height": null,
            "justify_content": null,
            "justify_items": null,
            "left": null,
            "margin": null,
            "max_height": null,
            "max_width": null,
            "min_height": null,
            "min_width": null,
            "object_fit": null,
            "object_position": null,
            "order": null,
            "overflow": null,
            "overflow_x": null,
            "overflow_y": null,
            "padding": null,
            "right": null,
            "top": null,
            "visibility": null,
            "width": null
          }
        },
        "83cbdd3516c1480786c8a3de51b9f1fd": {
          "model_module": "@jupyter-widgets/base",
          "model_name": "LayoutModel",
          "model_module_version": "1.2.0",
          "state": {
            "_model_module": "@jupyter-widgets/base",
            "_model_module_version": "1.2.0",
            "_model_name": "LayoutModel",
            "_view_count": null,
            "_view_module": "@jupyter-widgets/base",
            "_view_module_version": "1.2.0",
            "_view_name": "LayoutView",
            "align_content": null,
            "align_items": null,
            "align_self": null,
            "border": null,
            "bottom": null,
            "display": null,
            "flex": null,
            "flex_flow": null,
            "grid_area": null,
            "grid_auto_columns": null,
            "grid_auto_flow": null,
            "grid_auto_rows": null,
            "grid_column": null,
            "grid_gap": null,
            "grid_row": null,
            "grid_template_areas": null,
            "grid_template_columns": null,
            "grid_template_rows": null,
            "height": null,
            "justify_content": null,
            "justify_items": null,
            "left": null,
            "margin": null,
            "max_height": null,
            "max_width": null,
            "min_height": null,
            "min_width": null,
            "object_fit": null,
            "object_position": null,
            "order": null,
            "overflow": null,
            "overflow_x": null,
            "overflow_y": null,
            "padding": null,
            "right": null,
            "top": null,
            "visibility": null,
            "width": null
          }
        },
        "24d0d2471d6247a5ad614553ed5cfad8": {
          "model_module": "@jupyter-widgets/controls",
          "model_name": "DescriptionStyleModel",
          "model_module_version": "1.5.0",
          "state": {
            "_model_module": "@jupyter-widgets/controls",
            "_model_module_version": "1.5.0",
            "_model_name": "DescriptionStyleModel",
            "_view_count": null,
            "_view_module": "@jupyter-widgets/base",
            "_view_module_version": "1.2.0",
            "_view_name": "StyleView",
            "description_width": ""
          }
        },
        "e86288ed26474ea0b08358fe8b7e31f1": {
          "model_module": "@jupyter-widgets/base",
          "model_name": "LayoutModel",
          "model_module_version": "1.2.0",
          "state": {
            "_model_module": "@jupyter-widgets/base",
            "_model_module_version": "1.2.0",
            "_model_name": "LayoutModel",
            "_view_count": null,
            "_view_module": "@jupyter-widgets/base",
            "_view_module_version": "1.2.0",
            "_view_name": "LayoutView",
            "align_content": null,
            "align_items": null,
            "align_self": null,
            "border": null,
            "bottom": null,
            "display": null,
            "flex": null,
            "flex_flow": null,
            "grid_area": null,
            "grid_auto_columns": null,
            "grid_auto_flow": null,
            "grid_auto_rows": null,
            "grid_column": null,
            "grid_gap": null,
            "grid_row": null,
            "grid_template_areas": null,
            "grid_template_columns": null,
            "grid_template_rows": null,
            "height": null,
            "justify_content": null,
            "justify_items": null,
            "left": null,
            "margin": null,
            "max_height": null,
            "max_width": null,
            "min_height": null,
            "min_width": null,
            "object_fit": null,
            "object_position": null,
            "order": null,
            "overflow": null,
            "overflow_x": null,
            "overflow_y": null,
            "padding": null,
            "right": null,
            "top": null,
            "visibility": null,
            "width": null
          }
        },
        "a23f79d1c2fe4be5971e316f75485d6e": {
          "model_module": "@jupyter-widgets/controls",
          "model_name": "ProgressStyleModel",
          "model_module_version": "1.5.0",
          "state": {
            "_model_module": "@jupyter-widgets/controls",
            "_model_module_version": "1.5.0",
            "_model_name": "ProgressStyleModel",
            "_view_count": null,
            "_view_module": "@jupyter-widgets/base",
            "_view_module_version": "1.2.0",
            "_view_name": "StyleView",
            "bar_color": null,
            "description_width": ""
          }
        },
        "5e4370f9ae424b109d715df899b3bb4d": {
          "model_module": "@jupyter-widgets/base",
          "model_name": "LayoutModel",
          "model_module_version": "1.2.0",
          "state": {
            "_model_module": "@jupyter-widgets/base",
            "_model_module_version": "1.2.0",
            "_model_name": "LayoutModel",
            "_view_count": null,
            "_view_module": "@jupyter-widgets/base",
            "_view_module_version": "1.2.0",
            "_view_name": "LayoutView",
            "align_content": null,
            "align_items": null,
            "align_self": null,
            "border": null,
            "bottom": null,
            "display": null,
            "flex": null,
            "flex_flow": null,
            "grid_area": null,
            "grid_auto_columns": null,
            "grid_auto_flow": null,
            "grid_auto_rows": null,
            "grid_column": null,
            "grid_gap": null,
            "grid_row": null,
            "grid_template_areas": null,
            "grid_template_columns": null,
            "grid_template_rows": null,
            "height": null,
            "justify_content": null,
            "justify_items": null,
            "left": null,
            "margin": null,
            "max_height": null,
            "max_width": null,
            "min_height": null,
            "min_width": null,
            "object_fit": null,
            "object_position": null,
            "order": null,
            "overflow": null,
            "overflow_x": null,
            "overflow_y": null,
            "padding": null,
            "right": null,
            "top": null,
            "visibility": null,
            "width": null
          }
        },
        "325e4508d1374402986276c1a69d995e": {
          "model_module": "@jupyter-widgets/controls",
          "model_name": "DescriptionStyleModel",
          "model_module_version": "1.5.0",
          "state": {
            "_model_module": "@jupyter-widgets/controls",
            "_model_module_version": "1.5.0",
            "_model_name": "DescriptionStyleModel",
            "_view_count": null,
            "_view_module": "@jupyter-widgets/base",
            "_view_module_version": "1.2.0",
            "_view_name": "StyleView",
            "description_width": ""
          }
        }
      }
    }
  },
  "cells": [
    {
      "cell_type": "markdown",
      "source": [
        "\n",
        "\n",
        "```\n",
        " SPRINT 3: EXTRAÇÃO DE ATRIBUTOS - VERSÃO COM MODELO OPEN-SOURCE (LLAVA)\n",
        "```\n",
        "\n"
      ],
      "metadata": {
        "id": "aNXeAke9dmq6"
      }
    },
    {
      "cell_type": "markdown",
      "source": [
        "# --- Etapa 1: Instalação das Bibliotecas Necessárias ---"
      ],
      "metadata": {
        "id": "DxMA1NXQd3LU"
      }
    },
    {
      "cell_type": "code",
      "source": [
        "# Garante que as dependências para o modelo e otimizações estão instaladas.\n",
        "!pip install transformers torch bitsandbytes accelerate Pillow -q\n",
        "print(\"Dependências instaladas com sucesso.\")"
      ],
      "metadata": {
        "colab": {
          "base_uri": "https://localhost:8080/"
        },
        "id": "SNhZCzF9d9qi",
        "outputId": "eaa3e4ed-4675-4a23-e518-138d2490ec53"
      },
      "execution_count": 15,
      "outputs": [
        {
          "output_type": "stream",
          "name": "stdout",
          "text": [
            "Dependências instaladas com sucesso.\n"
          ]
        }
      ]
    },
    {
      "cell_type": "markdown",
      "source": [
        "\n",
        "# --- Etapa 2: Importações e Configuração do Modelo ---"
      ],
      "metadata": {
        "id": "EAQeD1dojgP7"
      }
    },
    {
      "cell_type": "code",
      "source": [
        "import torch\n",
        "from transformers import AutoProcessor, LlavaForConditionalGeneration, BitsAndBytesConfig\n",
        "import requests\n",
        "import io\n",
        "import json\n",
        "import pandas as pd\n",
        "import re\n",
        "import warnings\n",
        "from PIL import Image # <--- CORREÇÃO: A importação que faltava foi adicionada aqui.\n",
        "\n",
        "warnings.filterwarnings(\"ignore\")\n",
        "print(\"Bibliotecas importadas com sucesso.\")"
      ],
      "metadata": {
        "colab": {
          "base_uri": "https://localhost:8080/"
        },
        "id": "1vClT8QYdkNH",
        "outputId": "1b2179c9-a5bf-40b1-a945-3430bbd0f6ad"
      },
      "execution_count": 16,
      "outputs": [
        {
          "output_type": "stream",
          "name": "stdout",
          "text": [
            "Bibliotecas importadas com sucesso.\n"
          ]
        }
      ]
    },
    {
      "cell_type": "code",
      "source": [
        "if not torch.cuda.is_available():\n",
        "    raise SystemError(\"GPU não encontrada. Por favor, habilite uma GPU no ambiente de execução.\")\n",
        "print(f\"GPU detectada: {torch.cuda.get_device_name(0)}\")"
      ],
      "metadata": {
        "colab": {
          "base_uri": "https://localhost:8080/"
        },
        "id": "q-UxPp-MdkIw",
        "outputId": "4e4c1224-d9dd-4aa9-f479-84921a7ef8dd"
      },
      "execution_count": 17,
      "outputs": [
        {
          "output_type": "stream",
          "name": "stdout",
          "text": [
            "GPU detectada: Tesla T4\n"
          ]
        }
      ]
    },
    {
      "cell_type": "code",
      "source": [
        "quantization_config = BitsAndBytesConfig(\n",
        "    load_in_4bit=True,\n",
        "    bnb_4bit_compute_dtype=torch.float16\n",
        ")\n",
        "model_id = \"llava-hf/llava-1.5-7b-hf\"\n",
        "\n",
        "print(f\"Carregando o modelo '{model_id}'...\")\n",
        "model = LlavaForConditionalGeneration.from_pretrained(\n",
        "    model_id,\n",
        "    quantization_config=quantization_config,\n",
        "    device_map=\"auto\"\n",
        ")\n",
        "processor = AutoProcessor.from_pretrained(model_id)\n",
        "print(\"Modelo e processador carregados com sucesso.\")"
      ],
      "metadata": {
        "id": "xyDD0dzjfx4I",
        "colab": {
          "base_uri": "https://localhost:8080/",
          "height": 116,
          "referenced_widgets": [
            "067205ce8f074d7e9c2b112da7fe0624",
            "9f42d1b815dc4679ac563fb8cd427f8b",
            "3ec94afc1b4b4fdc845861c8bbe128e2",
            "fde8a32bef114f4aa5c9c94fb9b16eb5",
            "b6f64370e9ab47d9b0305cf1ce4c318f",
            "48121c7b3eb34e1aa8fceb1ff40b92db",
            "b20cd41545bd414ab73881f6a2093c46",
            "9ebb8662a08b4fabad78bbef57f3f5d4",
            "819e38c3b56541fd8f57ab609da080d9",
            "c633792fab1f48f38ab21c08574213fc",
            "6104cf3028f14ccf95552c63dde36e14",
            "560caf0d5ca649fcbd4bae60e3aa1569",
            "ceda20c2144f470aac1b3b64b3357f78",
            "555e616e76a14e03a2a02c7d7fb185ef",
            "7f5e19c75ee14f5eafee891f56c73822",
            "0e868b783be446518a52c8f0c8016678",
            "83cbdd3516c1480786c8a3de51b9f1fd",
            "24d0d2471d6247a5ad614553ed5cfad8",
            "e86288ed26474ea0b08358fe8b7e31f1",
            "a23f79d1c2fe4be5971e316f75485d6e",
            "5e4370f9ae424b109d715df899b3bb4d",
            "325e4508d1374402986276c1a69d995e"
          ]
        },
        "outputId": "e5bd02fe-8a3e-4d53-9a09-efe808b1fd2d"
      },
      "execution_count": 18,
      "outputs": [
        {
          "output_type": "stream",
          "name": "stdout",
          "text": [
            "Carregando o modelo 'llava-hf/llava-1.5-7b-hf'...\n"
          ]
        },
        {
          "output_type": "display_data",
          "data": {
            "text/plain": [
              "Loading checkpoint shards:   0%|          | 0/3 [00:00<?, ?it/s]"
            ],
            "application/vnd.jupyter.widget-view+json": {
              "version_major": 2,
              "version_minor": 0,
              "model_id": "067205ce8f074d7e9c2b112da7fe0624"
            }
          },
          "metadata": {}
        },
        {
          "output_type": "display_data",
          "data": {
            "text/plain": [
              "Fetching 2 files:   0%|          | 0/2 [00:00<?, ?it/s]"
            ],
            "application/vnd.jupyter.widget-view+json": {
              "version_major": 2,
              "version_minor": 0,
              "model_id": "560caf0d5ca649fcbd4bae60e3aa1569"
            }
          },
          "metadata": {}
        },
        {
          "output_type": "stream",
          "name": "stdout",
          "text": [
            "Modelo e processador carregados com sucesso.\n"
          ]
        }
      ]
    },
    {
      "cell_type": "markdown",
      "source": [
        "# --- Etapa 3: Definição dos Dados de Entrada e Prompt ---"
      ],
      "metadata": {
        "id": "e2Yu3IlUeEEk"
      }
    },
    {
      "cell_type": "code",
      "source": [
        "imagens_cartuchos = [\n",
        "    {\"nome\": \"hp_664_preto_original.jpg\", \"url\": \"https://fotos.oceanob2b.com/High/035033.jpg\"},\n",
        "    {\"nome\": \"toner_brother_tn2370_compativel.jpg\", \"url\": \"https://img.kalunga.com.br/fotosdeprodutos/217715z_1.jpg\"},\n",
        "    {\"nome\": \"epson_t544_preto_original.jpg\", \"url\": \"https://images.tcdn.com.br/img/img_prod/406359/kit_economico_com_2_garrafas_tinta_epson_544_t544120_t544_preto_original_p_ecotank_l3150_l3160_l3250_5143_1_e5f5b3a89d0946e5093780f45bb3e30c.jpg\"},\n",
        "    {\"nome\": \"canon_cl246_colorido_original.jpg\", \"url\": \"https://m.media-amazon.com/images/I/71xOF3-NTjL.jpg\"},\n",
        "    {\"nome\": \"hp_954_amarelo_compativel.png\", \"url\": \"https://br-media.hptiendaenlinea.com/catalog/product/cache/b3b166914d87ce343d4dc5ec5117b502/L/0/L0S56AB-1_T1680779403.png\"}\n",
        "]\n"
      ],
      "metadata": {
        "id": "WRafwf-QdkEv"
      },
      "execution_count": 19,
      "outputs": []
    },
    {
      "cell_type": "code",
      "source": [
        "prompt_text = \"\"\"\n",
        "Você é um especialista em analisar imagens de suprimentos de impressora. Analise a imagem fornecida e extraia os atributos do cartucho.\n",
        "Sua resposta deve ser exclusivamente um objeto JSON bem formatado. Não inclua nenhum texto explicativo antes ou depois do JSON.\n",
        "\n",
        "O JSON deve conter as seguintes chaves:\n",
        "- \"modelo_cartucho\": O número ou código do modelo visível no cartucho (ex: 'HP 664', 'TN2370', 'T544'). Se não for legível, retorne \"Não identificado\".\n",
        "- \"tipo_cartucho\": Classifique como \"Original\" se tiver logos da marca (HP, Brother, Epson, Canon), \"Compatível\" se for uma marca de terceiros, ou \"Remanufaturado\" se houver sinais de reutilização. Se incerto, retorne \"Não identificado\".\n",
        "- \"cor\": Identifique a cor da tinta (ex: 'Preto', 'Ciano', 'Magenta', 'Amarelo', 'Colorido'). Se for um toner, a cor é 'Preto', a menos que especificado de outra forma. Se não for possível determinar, retorne \"Não identificado\".\n",
        "- \"selo_original_presente\": Retorne o valor booleano `true` (sem aspas) se houver um selo holográfico de segurança ou um lacre da marca original. Caso contrário, retorne o valor booleano `false` (sem aspas).\n",
        "\"\"\"\n",
        "\n",
        "colunas = [\"nome_imagem\", \"url_imagem\", \"modelo_cartucho\", \"tipo_cartucho\", \"cor\", \"selo_original_presente\"]"
      ],
      "metadata": {
        "id": "CnJewWw-h3RE"
      },
      "execution_count": 20,
      "outputs": []
    },
    {
      "cell_type": "markdown",
      "source": [
        "# --- Etapa 4: Função para Extração com LLaVA ---"
      ],
      "metadata": {
        "id": "3u7v0lEkeLDH"
      }
    },
    {
      "cell_type": "code",
      "source": [
        "def extrair_atributos_com_llava(image_url, prompt):\n",
        "    print(f\"Processando (LLaVA): {image_url.split('/')[-1]}...\")\n",
        "    try:\n",
        "        headers = {'User-Agent': 'Mozilla/5.0 (Windows NT 10.0; Win64; x64) AppleWebKit/537.36 (KHTML, like Gecko) Chrome/91.0.4472.124 Safari/537.36'}\n",
        "        response = requests.get(image_url, stream=True, headers=headers, timeout=20)\n",
        "        response.raise_for_status()\n",
        "        raw_image = Image.open(io.BytesIO(response.content)).convert('RGB')\n",
        "\n",
        "        prompt_llava = f\"USER: <image>\\n{prompt} ASSISTANT:\"\n",
        "        inputs = processor(text=prompt_llava, images=raw_image, return_tensors=\"pt\").to(\"cuda\")\n",
        "\n",
        "        output = model.generate(**inputs, max_new_tokens=250, do_sample=False)\n",
        "        response_text = processor.decode(output[0], skip_special_tokens=True)\n",
        "\n",
        "        json_part = response_text.split(\"ASSISTANT:\")[1].strip()\n",
        "        return json_part\n",
        "    except requests.exceptions.RequestException as e:\n",
        "        print(f\"  -> ERRO de rede ao baixar a imagem {image_url.split('/')[-1]}: {e}\")\n",
        "        return None\n",
        "    except Exception as e:\n",
        "        print(f\"  -> ERRO inesperado ao processar a imagem {image_url.split('/')[-1]}: {e}\")\n",
        "        return None"
      ],
      "metadata": {
        "id": "2R5KQCSOj7A_"
      },
      "execution_count": 21,
      "outputs": []
    },
    {
      "cell_type": "markdown",
      "source": [
        "# --- Etapa 5: Execução do Processo e Armazenamento ---"
      ],
      "metadata": {
        "id": "aZrbRyTteQ0i"
      }
    },
    {
      "cell_type": "code",
      "source": [
        "print(\"\\nIniciando a extração de atributos com o modelo LLaVA (versão 5 - funcional)...\")\n",
        "resultados_extraidos = []\n",
        "\n",
        "for imagem in imagens_cartuchos:\n",
        "    resposta_texto = extrair_atributos_com_llava(imagem[\"url\"], prompt_text)\n",
        "    if resposta_texto is None:\n",
        "        continue\n",
        "\n",
        "    try:\n",
        "        match = re.search(r'\\{.*\\}', resposta_texto, re.DOTALL)\n",
        "        if not match:\n",
        "            raise json.JSONDecodeError(\"Nenhum objeto JSON encontrado na resposta.\", resposta_texto, 0)\n",
        "\n",
        "        resposta_limpa = match.group(0)\n",
        "        resposta_limpa = resposta_limpa.replace('\\\\_', '_')\n",
        "\n",
        "        dados = json.loads(resposta_limpa)\n",
        "        resultado = {\n",
        "            \"nome_imagem\": imagem[\"nome\"],\n",
        "            \"url_imagem\": imagem[\"url\"],\n",
        "            \"modelo_cartucho\": dados.get(\"modelo_cartucho\", \"Erro de parsing\"),\n",
        "            \"tipo_cartucho\": dados.get(\"tipo_cartucho\", \"Erro de parsing\"),\n",
        "            \"cor\": dados.get(\"cor\", \"Erro de parsing\"),\n",
        "            \"selo_original_presente\": dados.get(\"selo_original_presente\", \"Erro de parsing\")\n",
        "        }\n",
        "        resultados_extraidos.append(resultado)\n",
        "    except (json.JSONDecodeError, KeyError) as e:\n",
        "        print(f\"  -> ERRO ao processar o JSON da imagem {imagem['nome']}: {e}\")\n",
        "        print(f\"     Resposta recebida (original): {resposta_texto}\")\n",
        "\n",
        "print(\"\\nExtração concluída.\")\n",
        "\n",
        "df_resultados = pd.DataFrame(resultados_extraidos, columns=colunas)\n",
        "nome_arquivo_csv = 'extracao_atributos_llava_v5.csv'\n",
        "df_resultados.to_csv(nome_arquivo_csv, index=False, encoding='utf-8')\n",
        "print(f\"Resultados salvos com sucesso no arquivo '{nome_arquivo_csv}'\")"
      ],
      "metadata": {
        "colab": {
          "base_uri": "https://localhost:8080/"
        },
        "id": "aB8pFeM7kBfP",
        "outputId": "6baff16d-f67d-4f2f-cd75-d56fc1bb18e8"
      },
      "execution_count": 22,
      "outputs": [
        {
          "output_type": "stream",
          "name": "stdout",
          "text": [
            "\n",
            "Iniciando a extração de atributos com o modelo LLaVA (versão 5 - funcional)...\n",
            "Processando (LLaVA): 035033.jpg...\n",
            "Processando (LLaVA): 217715z_1.jpg...\n",
            "Processando (LLaVA): kit_economico_com_2_garrafas_tinta_epson_544_t544120_t544_preto_original_p_ecotank_l3150_l3160_l3250_5143_1_e5f5b3a89d0946e5093780f45bb3e30c.jpg...\n",
            "Processando (LLaVA): 71xOF3-NTjL.jpg...\n",
            "Processando (LLaVA): L0S56AB-1_T1680779403.png...\n",
            "\n",
            "Extração concluída.\n",
            "Resultados salvos com sucesso no arquivo 'extracao_atributos_llava_v5.csv'\n"
          ]
        }
      ]
    },
    {
      "cell_type": "markdown",
      "source": [
        "# --- Etapa 6: Exibição Final ---"
      ],
      "metadata": {
        "id": "G7LE9J9KeU80"
      }
    },
    {
      "cell_type": "code",
      "source": [
        "print(\"\\n--- Tabela de Resultados Extraídos ---\")\n",
        "print(df_resultados.to_string())"
      ],
      "metadata": {
        "id": "_nmxTwsSdjjo",
        "colab": {
          "base_uri": "https://localhost:8080/"
        },
        "outputId": "841e704d-e926-4e46-cd19-4582e36c94e6"
      },
      "execution_count": 23,
      "outputs": [
        {
          "output_type": "stream",
          "name": "stdout",
          "text": [
            "\n",
            "--- Tabela de Resultados Extraídos ---\n",
            "                           nome_imagem                                                                                                                                                                                       url_imagem   modelo_cartucho tipo_cartucho               cor  selo_original_presente\n",
            "0            hp_664_preto_original.jpg                                                                                                                                                      https://fotos.oceanob2b.com/High/035033.jpg  Não identificado    Compatível             Preto                   False\n",
            "1  toner_brother_tn2370_compativel.jpg                                                                                                                                         https://img.kalunga.com.br/fotosdeprodutos/217715z_1.jpg            TN2370    Compatível             Preto                    True\n",
            "2        epson_t544_preto_original.jpg  https://images.tcdn.com.br/img/img_prod/406359/kit_economico_com_2_garrafas_tinta_epson_544_t544120_t544_preto_original_p_ecotank_l3150_l3160_l3250_5143_1_e5f5b3a89d0946e5093780f45bb3e30c.jpg         Epson 544      Original             Preto                    True\n",
            "3    canon_cl246_colorido_original.jpg                                                                                                                                              https://m.media-amazon.com/images/I/71xOF3-NTjL.jpg             Canon      Original          Colorido                    True\n",
            "4        hp_954_amarelo_compativel.png                                                                        https://br-media.hptiendaenlinea.com/catalog/product/cache/b3b166914d87ce343d4dc5ec5117b502/L/0/L0S56AB-1_T1680779403.png  Não identificado    Compatível  Não identificado                   False\n"
          ]
        }
      ]
    }
  ]
}